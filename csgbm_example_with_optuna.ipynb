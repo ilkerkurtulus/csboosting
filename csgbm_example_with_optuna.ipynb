{
 "cells": [
  {
   "cell_type": "code",
   "execution_count": 1,
   "metadata": {},
   "outputs": [
    {
     "data": {
      "text/html": [
       "<style>.container { width:95% !important; }</style>"
      ],
      "text/plain": [
       "<IPython.core.display.HTML object>"
      ]
     },
     "metadata": {},
     "output_type": "display_data"
    }
   ],
   "source": [
    "import numpy as np\n",
    "import numpy as np\n",
    "from IPython.core.display import display, HTML\n",
    "display(HTML(\"<style>.container { width:95% !important; }</style>\"))\n",
    "import matplotlib.pyplot as plt\n",
    "from edcs_gbm.cs_gbm import CSGbm\n",
    "from edcs_gbm.utils import *\n",
    "from sklearn.datasets import make_classification\n",
    "from sklearn.model_selection import train_test_split, RepeatedStratifiedKFold\n",
    "import optuna\n",
    "from optuna import trial, create_study\n",
    "from optuna.samplers import TPESampler"
   ]
  },
  {
   "cell_type": "code",
   "execution_count": 2,
   "metadata": {},
   "outputs": [],
   "source": [
    "def cs_gbm_tuning_savings(trial, cost_train, X_train, y_train, n_splits=5, n_repeats=2, random_state=42, n_trials = 10):\n",
    "\n",
    "    def cs_gbm_objective(trial, cost_train, X_train, y_train, n_splits=n_splits, n_repeats=n_repeats, random_state=random_state):\n",
    "\n",
    "        rskf = RepeatedStratifiedKFold(n_splits=n_splits, n_repeats=n_repeats, random_state=random_state)\n",
    "        y_prob = np.zeros(len(y_train))\n",
    "\n",
    "        tmp_savings = []\n",
    "\n",
    "        params = {\n",
    "            \"max_depth\": trial.suggest_int(\"max_depth\", 3, 8),\n",
    "            \"learning_rate\": trial.suggest_loguniform(\"learning_rate\", 0.01, 0.3),\n",
    "            \"n_estimators\": trial.suggest_int(\"n_estimators\", 100, 500),\n",
    "            \"min_samples_leaf\": trial.suggest_int(\"min_samples_leaf\", 5, 15),\n",
    "            \"random_state\": random_state,\n",
    "            \"cost_alpha\": 0.08,\n",
    "            \"cost_beta\": 1\n",
    "        }\n",
    "\n",
    "        cost_alpha = 0.08\n",
    "        cost_beta = 1\n",
    "        epsilon = 10**-4\n",
    "\n",
    "        model = CSGbm(**params)\n",
    "\n",
    "        for train_index, test_index in rskf.split(X_train, y_train):\n",
    "\n",
    "            xtr, xte = X_train.values[train_index], X_train.values[test_index]\n",
    "            ytr, yte = y_train.values[train_index], y_train.values[test_index]\n",
    "            ctr, cte = cost_train.values[train_index], cost_train.values[test_index]\n",
    "\n",
    "            model.fit(xtr, ytr, ctr)\n",
    "\n",
    "            tmp_test_prob = model.predict_proba(xte)\n",
    "\n",
    "            tmp_savings.append(savings(cte, cost_alpha, cost_beta, yte, tmp_test_prob, epsilon))\n",
    "\n",
    "\n",
    "        return np.array(tmp_savings).mean()\n",
    "\n",
    "    sampler = TPESampler(seed=random_state)\n",
    "\n",
    "    csgbm_study = create_study(direction=\"maximize\", sampler=sampler)\n",
    "    csgbm_study.optimize(\n",
    "        lambda trial: cs_gbm_objective(\n",
    "            trial,\n",
    "            cost_train,\n",
    "            X_train,\n",
    "            y_train,\n",
    "            n_splits=n_splits,\n",
    "            n_repeats=n_repeats,\n",
    "            random_state=random_state,\n",
    "        ),\n",
    "        n_trials=n_trials,\n",
    "        n_jobs = -1\n",
    "    )\n",
    "\n",
    "    return csgbm_study"
   ]
  },
  {
   "cell_type": "markdown",
   "metadata": {},
   "source": [
    "### Simple Train Test"
   ]
  },
  {
   "cell_type": "code",
   "execution_count": 3,
   "metadata": {},
   "outputs": [],
   "source": [
    "np.random.seed(42)\n",
    "X, y = make_classification(n_samples = 5000, n_features = 20, n_classes = 2, random_state = 42, weights = [0.3, 0.7])\n",
    "X = pd.DataFrame(X)\n",
    "y = pd.Series(y)\n",
    "individual_costs = np.random.uniform(low = 1, high = 50, size = len(X))\n",
    "individual_costs = pd.Series(individual_costs)\n",
    "individual_costs = individual_costs/(individual_costs.max())\n",
    "X_train, X_test, cost_train, cost_test, y_train, y_test = train_test_split(X, individual_costs, y, stratify = y, test_size = 0.25)"
   ]
  },
  {
   "cell_type": "code",
   "execution_count": 4,
   "metadata": {},
   "outputs": [],
   "source": [
    "cost_alpha = 0.08\n",
    "cost_beta = 1\n",
    "random_state = 42\n",
    "n_estimators = 100\n",
    "learning_rate = 0.3\n",
    "max_depth = 6\n",
    "min_samples_leaf = 3\n",
    "\n",
    "cs_gbm = CSGbm(n_estimators=n_estimators,\n",
    "    max_depth=max_depth,\n",
    "    min_samples_leaf=min_samples_leaf,\n",
    "    learning_rate=learning_rate,\n",
    "    cost_alpha=cost_alpha,\n",
    "    cost_beta=cost_beta,\n",
    "    random_state=random_state)"
   ]
  },
  {
   "cell_type": "code",
   "execution_count": 5,
   "metadata": {},
   "outputs": [
    {
     "data": {
      "image/png": "[encoded data removed]",
      "text/plain": [
       "<Figure size 432x288 with 1 Axes>"
      ]
     },
     "metadata": {
      "needs_background": "light"
     },
     "output_type": "display_data"
    }
   ],
   "source": [
    "cs_gbm.fit(X_train.values, y_train.values, cost_train.values)\n",
    "pred = cs_gbm.predict_proba(X_test)\n",
    "plt.plot(cs_gbm.iteration_loss)\n",
    "plt.xlabel(\"# of iterations\")\n",
    "plt.ylabel(\"Total Loss in the training set\")\n",
    "plt.title(\"Loss vs Iteration\")\n",
    "plt.show()"
   ]
  },
  {
   "cell_type": "code",
   "execution_count": 6,
   "metadata": {},
   "outputs": [],
   "source": [
    "y_prob = cs_gbm.predict_proba(X_test)\n",
    "y_pred = cs_gbm.predict(X_test)"
   ]
  },
  {
   "cell_type": "code",
   "execution_count": 7,
   "metadata": {},
   "outputs": [
    {
     "name": "stdout",
     "output_type": "stream",
     "text": [
      "train savings: 0.999\n",
      "test savings: 0.759\n"
     ]
    }
   ],
   "source": [
    "print(\"train savings: \" + str(np.round(savings(cost_train, cost_alpha, cost_beta, y_train, cs_gbm.predict_proba(X_train)),3)))\n",
    "print(\"test savings: \" + str(np.round(savings(cost_test, cost_alpha, cost_beta, y_test, y_prob),3)))"
   ]
  },
  {
   "cell_type": "markdown",
   "metadata": {},
   "source": [
    "### Tuning by savings with Optuna"
   ]
  },
  {
   "cell_type": "raw",
   "metadata": {},
   "source": [
    "csgbm_study = cs_gbm_tuning_savings(trial, cost_train, X_train, y_train, n_splits=5, n_repeats=3, random_state=42, n_trials = 100)"
   ]
  }
 ],
 "metadata": {
  "kernelspec": {
   "display_name": "Python 3",
   "language": "python",
   "name": "python3"
  },
  "language_info": {
   "codemirror_mode": {
    "name": "ipython",
    "version": 3
   },
   "file_extension": ".py",
   "mimetype": "text/x-python",
   "name": "python",
   "nbconvert_exporter": "python",
   "pygments_lexer": "ipython3",
   "version": "3.7.6"
  }
 },
 "nbformat": 4,
 "nbformat_minor": 4
}
